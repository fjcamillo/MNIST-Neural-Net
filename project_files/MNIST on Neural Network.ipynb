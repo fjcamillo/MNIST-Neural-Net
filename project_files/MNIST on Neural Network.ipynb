{
 "cells": [
  {
   "cell_type": "markdown",
   "metadata": {},
   "source": [
    "# Feed Forward Neural Network on MNIST Dataset"
   ]
  },
  {
   "cell_type": "code",
   "execution_count": 1,
   "metadata": {
    "collapsed": false
   },
   "outputs": [],
   "source": [
    "import tensorflow as tf\n",
    "import numpy as np"
   ]
  },
  {
   "cell_type": "code",
   "execution_count": 2,
   "metadata": {
    "collapsed": false
   },
   "outputs": [],
   "source": [
    "from tensorflow.examples.tutorials.mnist import input_data"
   ]
  },
  {
   "cell_type": "code",
   "execution_count": 3,
   "metadata": {
    "collapsed": false
   },
   "outputs": [
    {
     "name": "stdout",
     "output_type": "stream",
     "text": [
      "Extracting ../MNIST_data/train-images-idx3-ubyte.gz\n",
      "Extracting ../MNIST_data/train-labels-idx1-ubyte.gz\n",
      "Extracting ../MNIST_data/t10k-images-idx3-ubyte.gz\n",
      "Extracting ../MNIST_data/t10k-labels-idx1-ubyte.gz\n"
     ]
    }
   ],
   "source": [
    "mnist = input_data.read_data_sets('../MNIST_data/', one_hot=True)"
   ]
  },
  {
   "cell_type": "code",
   "execution_count": 4,
   "metadata": {
    "collapsed": false
   },
   "outputs": [],
   "source": [
    "training_images = mnist.train.images\n",
    "training_labels = mnist.train.labels"
   ]
  },
  {
   "cell_type": "code",
   "execution_count": 5,
   "metadata": {
    "collapsed": true
   },
   "outputs": [],
   "source": [
    "testing_images = mnist.test.images\n",
    "testing_labels = mnist.test.labels"
   ]
  },
  {
   "cell_type": "code",
   "execution_count": 6,
   "metadata": {
    "collapsed": false
   },
   "outputs": [
    {
     "data": {
      "text/plain": [
       "(55000, 784)"
      ]
     },
     "execution_count": 6,
     "metadata": {},
     "output_type": "execute_result"
    }
   ],
   "source": [
    "training_images.shape"
   ]
  },
  {
   "cell_type": "code",
   "execution_count": 7,
   "metadata": {
    "collapsed": false
   },
   "outputs": [
    {
     "data": {
      "text/plain": [
       "(55000, 10)"
      ]
     },
     "execution_count": 7,
     "metadata": {},
     "output_type": "execute_result"
    }
   ],
   "source": [
    "training_labels.shape"
   ]
  },
  {
   "cell_type": "code",
   "execution_count": 8,
   "metadata": {
    "collapsed": false
   },
   "outputs": [
    {
     "data": {
      "text/plain": [
       "(10000, 784)"
      ]
     },
     "execution_count": 8,
     "metadata": {},
     "output_type": "execute_result"
    }
   ],
   "source": [
    "testing_images.shape"
   ]
  },
  {
   "cell_type": "code",
   "execution_count": 9,
   "metadata": {
    "collapsed": false
   },
   "outputs": [
    {
     "data": {
      "text/plain": [
       "(10000, 10)"
      ]
     },
     "execution_count": 9,
     "metadata": {},
     "output_type": "execute_result"
    }
   ],
   "source": [
    "testing_labels.shape"
   ]
  },
  {
   "cell_type": "code",
   "execution_count": 10,
   "metadata": {
    "collapsed": false
   },
   "outputs": [
    {
     "data": {
      "text/plain": [
       "(784,)"
      ]
     },
     "execution_count": 10,
     "metadata": {},
     "output_type": "execute_result"
    }
   ],
   "source": [
    "training_images[0].shape"
   ]
  },
  {
   "cell_type": "code",
   "execution_count": 11,
   "metadata": {
    "collapsed": false
   },
   "outputs": [
    {
     "data": {
      "text/plain": [
       "(10,)"
      ]
     },
     "execution_count": 11,
     "metadata": {},
     "output_type": "execute_result"
    }
   ],
   "source": [
    "training_labels[0].shape"
   ]
  },
  {
   "cell_type": "code",
   "execution_count": 12,
   "metadata": {
    "collapsed": false
   },
   "outputs": [
    {
     "data": {
      "text/plain": [
       "(784,)"
      ]
     },
     "execution_count": 12,
     "metadata": {},
     "output_type": "execute_result"
    }
   ],
   "source": [
    "testing_images[0].shape"
   ]
  },
  {
   "cell_type": "code",
   "execution_count": 13,
   "metadata": {
    "collapsed": false
   },
   "outputs": [
    {
     "data": {
      "text/plain": [
       "(10,)"
      ]
     },
     "execution_count": 13,
     "metadata": {},
     "output_type": "execute_result"
    }
   ],
   "source": [
    "testing_labels[0].shape"
   ]
  },
  {
   "cell_type": "markdown",
   "metadata": {},
   "source": [
    "# Creating a 1 Layer Model"
   ]
  },
  {
   "cell_type": "code",
   "execution_count": 14,
   "metadata": {
    "collapsed": true
   },
   "outputs": [],
   "source": [
    "sess = tf.InteractiveSession()"
   ]
  },
  {
   "cell_type": "code",
   "execution_count": 15,
   "metadata": {
    "collapsed": false
   },
   "outputs": [],
   "source": [
    "with tf.device('/cpu:0'):\n",
    "    xS = tf.placeholder(tf.float32, [None, 784])\n",
    "\n",
    "    #First Layer\n",
    "    W = tf.Variable(tf.zeros([784, 10]), tf.float32)\n",
    "    b = tf.Variable(tf.zeros([10]), tf.float32)\n",
    "    yS = tf.placeholder(tf.float32, [None, 10])\n",
    "    \n",
    "    logits = tf.nn.softmax(tf.add(tf.matmul(xS, W), b))\n",
    "        \n",
    "    \n",
    "    cross_entropyS = tf.reduce_mean(-tf.reduce_sum(yS*tf.log(logits), reduction_indices=[1]))\n",
    "    "
   ]
  },
  {
   "cell_type": "code",
   "execution_count": 16,
   "metadata": {
    "collapsed": true
   },
   "outputs": [],
   "source": [
    "train_step_single = tf.train.GradientDescentOptimizer(0.5).minimize(cross_entropyS)"
   ]
  },
  {
   "cell_type": "code",
   "execution_count": 17,
   "metadata": {
    "collapsed": true
   },
   "outputs": [],
   "source": [
    "tf.global_variables_initializer().run()"
   ]
  },
  {
   "cell_type": "code",
   "execution_count": 18,
   "metadata": {
    "collapsed": false
   },
   "outputs": [
    {
     "name": "stdout",
     "output_type": "stream",
     "text": [
      "0.098\n",
      "0.8943\n",
      "0.9037\n",
      "0.9083\n",
      "0.9037\n",
      "0.9094\n",
      "0.9131\n",
      "0.9139\n",
      "0.9147\n",
      "0.9177\n",
      "0.9138\n",
      "0.9208\n",
      "0.9185\n",
      "0.9183\n",
      "0.9178\n",
      "0.9178\n",
      "0.9183\n",
      "0.9219\n",
      "0.9192\n",
      "0.9218\n",
      "0.9223\n",
      "0.9221\n",
      "0.9218\n",
      "0.9154\n",
      "0.9201\n",
      "0.9199\n",
      "0.9226\n",
      "0.9218\n",
      "0.9215\n",
      "0.9167\n",
      "0.9225\n",
      "0.9214\n",
      "0.9195\n",
      "0.9219\n",
      "0.924\n",
      "0.9207\n",
      "0.9221\n",
      "0.9218\n",
      "0.9192\n",
      "0.9219\n",
      "0.9233\n",
      "0.9229\n",
      "0.9233\n",
      "0.9195\n",
      "0.9207\n",
      "0.9181\n",
      "0.9234\n",
      "0.9225\n",
      "0.9191\n",
      "0.9247\n"
     ]
    }
   ],
   "source": [
    "for i in range(5000):\n",
    "    if i%100==0:\n",
    "        correct_predictions = tf.equal(tf.argmax(logits, 1), tf.argmax(yS, 1))\n",
    "        accuracys = tf.reduce_mean(tf.cast(correct_predictions, tf.float32))\n",
    "        print(sess.run(accuracys, {xS:testing_images, yS:testing_labels}))\n",
    "        \n",
    "    batch_xsS, batch_ysS = mnist.train.next_batch(100)\n",
    "    sess.run(train_step_single, feed_dict={xS: batch_xsS, yS:batch_ysS})"
   ]
  },
  {
   "cell_type": "code",
   "execution_count": 20,
   "metadata": {
    "collapsed": false
   },
   "outputs": [
    {
     "data": {
      "text/plain": [
       "<tf.Tensor 'Equal_50:0' shape=(?,) dtype=bool>"
      ]
     },
     "execution_count": 20,
     "metadata": {},
     "output_type": "execute_result"
    }
   ],
   "source": [
    "correct_prediction = tf.equal(tf.argmax(logits, 1), tf.argmax(yS, 1))\n",
    "correct_prediction"
   ]
  },
  {
   "cell_type": "code",
   "execution_count": 21,
   "metadata": {
    "collapsed": false
   },
   "outputs": [
    {
     "data": {
      "text/plain": [
       "0.9242"
      ]
     },
     "execution_count": 21,
     "metadata": {},
     "output_type": "execute_result"
    }
   ],
   "source": [
    "accuracys = tf.reduce_mean(tf.cast(correct_predictions, tf.float32))\n",
    "sess.run(accuracys, {xS: testing_images, yS: testing_labels})"
   ]
  },
  {
   "cell_type": "markdown",
   "metadata": {},
   "source": [
    "# Creating a 3 Layer Model"
   ]
  },
  {
   "cell_type": "code",
   "execution_count": 22,
   "metadata": {
    "collapsed": true
   },
   "outputs": [],
   "source": [
    "sess = tf.InteractiveSession()"
   ]
  },
  {
   "cell_type": "code",
   "execution_count": 36,
   "metadata": {
    "collapsed": false
   },
   "outputs": [],
   "source": [
    "with tf.device('/cpu:0'):\n",
    "    \n",
    "    \n",
    "\n",
    "    #First Layer\n",
    "    y_ = tf.placeholder(tf.float32, [None, 10])\n",
    "    x = tf.placeholder(tf.float32, [None, 784])\n",
    "    W1 = tf.Variable(tf.zeros([784, 50]), tf.float32)\n",
    "    b1 = tf.Variable(tf.zeros([50]), tf.float32)\n",
    "    y1 = tf.nn.softmax(tf.add(tf.matmul(x, W1), b1))\n",
    "    \n",
    "    #Dropout\n",
    "    keep_prob_zero = tf.placeholder(tf.float32)\n",
    "    drop_zero = tf.nn.dropout(y1, keep_prob_zero)\n",
    "    \n",
    "    #second layer\n",
    "    W2 = tf.Variable(tf.zeros([50, 20]))\n",
    "    b2 = tf.Variable(tf.zeros([20]))\n",
    "    y2 = tf.nn.softmax(tf.add(tf.matmul(drop_zero, W2), b2))\n",
    "    \n",
    "    #Dropout\n",
    "    keep_prob_one = tf.placeholder(tf.float32)\n",
    "    drop_one = tf.nn.dropout(y2, keep_prob_one)\n",
    "    \n",
    "    #third layer\n",
    "    W3 = tf.Variable(tf.zeros([20, 10]))\n",
    "    b3 = tf.Variable(tf.zeros([10]))\n",
    "    y3 = tf.nn.softmax(tf.add(tf.matmul(drop_one, W3), b3))\n",
    "    \n",
    "    cross_entropy = tf.reduce_mean(-tf.reduce_sum(y_*tf.log(y3), reduction_indices=[1]) )"
   ]
  },
  {
   "cell_type": "code",
   "execution_count": 37,
   "metadata": {
    "collapsed": false
   },
   "outputs": [],
   "source": [
    "train_step = tf.train.GradientDescentOptimizer(0.05).minimize(cross_entropy)"
   ]
  },
  {
   "cell_type": "code",
   "execution_count": 38,
   "metadata": {
    "collapsed": true
   },
   "outputs": [],
   "source": [
    "tf.global_variables_initializer().run()"
   ]
  },
  {
   "cell_type": "code",
   "execution_count": null,
   "metadata": {
    "collapsed": false
   },
   "outputs": [
    {
     "name": "stdout",
     "output_type": "stream",
     "text": [
      "0.098\n",
      "0.1135\n",
      "0.1135\n",
      "0.1135\n",
      "0.1135\n",
      "0.1135\n",
      "0.1135\n",
      "0.1135\n",
      "0.1135\n",
      "0.1135\n",
      "0.1135\n",
      "0.1135\n",
      "0.1135\n"
     ]
    }
   ],
   "source": [
    "for i in range(5000):\n",
    "    if i%100==0:\n",
    "        correct_predictions = tf.equal(tf.argmax(y3, 1), tf.argmax(y_, 1))\n",
    "        accuracys = tf.reduce_mean(tf.cast(correct_predictions, tf.float32))\n",
    "        print(sess.run(accuracys, {x:testing_images, y_:testing_labels, keep_prob_zero:0.5, keep_prob_one:0.5}))\n",
    "    batch_xs, batch_ys = mnist.train.next_batch(100)\n",
    "    sess.run(train_step, feed_dict={x:batch_xs, y_:batch_ys,keep_prob_zero:0.5, keep_prob_one:0.5})"
   ]
  },
  {
   "cell_type": "code",
   "execution_count": 27,
   "metadata": {
    "collapsed": false
   },
   "outputs": [
    {
     "data": {
      "text/plain": [
       "0.1135"
      ]
     },
     "execution_count": 27,
     "metadata": {},
     "output_type": "execute_result"
    }
   ],
   "source": [
    "correct_prediction = tf.equal(tf.argmax(y3, 1), tf.argmax(y_, 1))\n",
    "accuracy = tf.reduce_mean(tf.cast(correct_prediction, tf.float32))\n",
    "sess.run(accuracy, feed_dict={x:testing_images, y_:testing_labels})"
   ]
  },
  {
   "cell_type": "code",
   "execution_count": null,
   "metadata": {
    "collapsed": true
   },
   "outputs": [],
   "source": []
  }
 ],
 "metadata": {
  "kernelspec": {
   "display_name": "Python 2",
   "language": "python",
   "name": "python2"
  },
  "language_info": {
   "codemirror_mode": {
    "name": "ipython",
    "version": 2
   },
   "file_extension": ".py",
   "mimetype": "text/x-python",
   "name": "python",
   "nbconvert_exporter": "python",
   "pygments_lexer": "ipython2",
   "version": "2.7.13"
  }
 },
 "nbformat": 4,
 "nbformat_minor": 0
}
