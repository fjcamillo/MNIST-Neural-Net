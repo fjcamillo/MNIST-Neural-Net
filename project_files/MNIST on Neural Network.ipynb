{
 "cells": [
  {
   "cell_type": "markdown",
   "metadata": {},
   "source": [
    "# Feed Forward Neural Network on MNIST Dataset"
   ]
  },
  {
   "cell_type": "code",
   "execution_count": 1,
   "metadata": {
    "collapsed": false
   },
   "outputs": [],
   "source": [
    "import tensorflow as tf\n",
    "import numpy as np"
   ]
  },
  {
   "cell_type": "code",
   "execution_count": 2,
   "metadata": {
    "collapsed": false
   },
   "outputs": [],
   "source": [
    "from tensorflow.examples.tutorials.mnist import input_data"
   ]
  },
  {
   "cell_type": "code",
   "execution_count": 3,
   "metadata": {
    "collapsed": false
   },
   "outputs": [
    {
     "name": "stdout",
     "output_type": "stream",
     "text": [
      "Extracting ../MNIST_data/train-images-idx3-ubyte.gz\n",
      "Extracting ../MNIST_data/train-labels-idx1-ubyte.gz\n",
      "Extracting ../MNIST_data/t10k-images-idx3-ubyte.gz\n",
      "Extracting ../MNIST_data/t10k-labels-idx1-ubyte.gz\n"
     ]
    }
   ],
   "source": [
    "mnist = input_data.read_data_sets('../MNIST_data/', one_hot=True)"
   ]
  },
  {
   "cell_type": "code",
   "execution_count": 4,
   "metadata": {
    "collapsed": false
   },
   "outputs": [],
   "source": [
    "training_images = mnist.train.images\n",
    "training_labels = mnist.train.labels"
   ]
  },
  {
   "cell_type": "code",
   "execution_count": 5,
   "metadata": {
    "collapsed": true
   },
   "outputs": [],
   "source": [
    "testing_images = mnist.test.images\n",
    "testing_labels = mnist.test.labels"
   ]
  },
  {
   "cell_type": "code",
   "execution_count": 6,
   "metadata": {
    "collapsed": false
   },
   "outputs": [
    {
     "data": {
      "text/plain": [
       "(55000, 784)"
      ]
     },
     "execution_count": 6,
     "metadata": {},
     "output_type": "execute_result"
    }
   ],
   "source": [
    "training_images.shape"
   ]
  },
  {
   "cell_type": "code",
   "execution_count": 7,
   "metadata": {
    "collapsed": false
   },
   "outputs": [
    {
     "data": {
      "text/plain": [
       "(55000, 10)"
      ]
     },
     "execution_count": 7,
     "metadata": {},
     "output_type": "execute_result"
    }
   ],
   "source": [
    "training_labels.shape"
   ]
  },
  {
   "cell_type": "code",
   "execution_count": 8,
   "metadata": {
    "collapsed": false
   },
   "outputs": [
    {
     "data": {
      "text/plain": [
       "(10000, 784)"
      ]
     },
     "execution_count": 8,
     "metadata": {},
     "output_type": "execute_result"
    }
   ],
   "source": [
    "testing_images.shape"
   ]
  },
  {
   "cell_type": "code",
   "execution_count": 9,
   "metadata": {
    "collapsed": false
   },
   "outputs": [
    {
     "data": {
      "text/plain": [
       "(10000, 10)"
      ]
     },
     "execution_count": 9,
     "metadata": {},
     "output_type": "execute_result"
    }
   ],
   "source": [
    "testing_labels.shape"
   ]
  },
  {
   "cell_type": "code",
   "execution_count": 10,
   "metadata": {
    "collapsed": false
   },
   "outputs": [
    {
     "data": {
      "text/plain": [
       "(784,)"
      ]
     },
     "execution_count": 10,
     "metadata": {},
     "output_type": "execute_result"
    }
   ],
   "source": [
    "training_images[0].shape"
   ]
  },
  {
   "cell_type": "code",
   "execution_count": 11,
   "metadata": {
    "collapsed": false
   },
   "outputs": [
    {
     "data": {
      "text/plain": [
       "(10,)"
      ]
     },
     "execution_count": 11,
     "metadata": {},
     "output_type": "execute_result"
    }
   ],
   "source": [
    "training_labels[0].shape"
   ]
  },
  {
   "cell_type": "code",
   "execution_count": 12,
   "metadata": {
    "collapsed": false
   },
   "outputs": [
    {
     "data": {
      "text/plain": [
       "(784,)"
      ]
     },
     "execution_count": 12,
     "metadata": {},
     "output_type": "execute_result"
    }
   ],
   "source": [
    "testing_images[0].shape"
   ]
  },
  {
   "cell_type": "code",
   "execution_count": 13,
   "metadata": {
    "collapsed": false
   },
   "outputs": [
    {
     "data": {
      "text/plain": [
       "(10,)"
      ]
     },
     "execution_count": 13,
     "metadata": {},
     "output_type": "execute_result"
    }
   ],
   "source": [
    "testing_labels[0].shape"
   ]
  },
  {
   "cell_type": "markdown",
   "metadata": {},
   "source": [
    "# Creating a 1 Layer Model"
   ]
  },
  {
   "cell_type": "code",
   "execution_count": 14,
   "metadata": {
    "collapsed": true
   },
   "outputs": [],
   "source": [
    "sess = tf.InteractiveSession()"
   ]
  },
  {
   "cell_type": "code",
   "execution_count": 15,
   "metadata": {
    "collapsed": false
   },
   "outputs": [],
   "source": [
    "with tf.device('/cpu:0'):\n",
    "    xS = tf.placeholder(tf.float32, [None, 784])\n",
    "\n",
    "    #First Layer\n",
    "    W = tf.Variable(tf.zeros([784, 10]), tf.float32)\n",
    "    b = tf.Variable(tf.zeros([10]), tf.float32)\n",
    "    yS = tf.placeholder(tf.float32, [None, 10])\n",
    "    \n",
    "    logits = tf.nn.softmax(tf.add(tf.matmul(xS, W), b))\n",
    "        \n",
    "    \n",
    "    cross_entropyS = tf.reduce_mean(-tf.reduce_sum(yS*tf.log(logits), reduction_indices=[1]))\n",
    "    "
   ]
  },
  {
   "cell_type": "code",
   "execution_count": 16,
   "metadata": {
    "collapsed": true
   },
   "outputs": [],
   "source": [
    "train_step_single = tf.train.GradientDescentOptimizer(0.5).minimize(cross_entropyS)"
   ]
  },
  {
   "cell_type": "code",
   "execution_count": 17,
   "metadata": {
    "collapsed": true
   },
   "outputs": [],
   "source": [
    "tf.global_variables_initializer().run()"
   ]
  },
  {
   "cell_type": "code",
   "execution_count": 18,
   "metadata": {
    "collapsed": false
   },
   "outputs": [
    {
     "name": "stdout",
     "output_type": "stream",
     "text": [
      "0.098\n",
      "0.8943\n",
      "0.9037\n",
      "0.9083\n",
      "0.9037\n",
      "0.9094\n",
      "0.9131\n",
      "0.9139\n",
      "0.9147\n",
      "0.9177\n",
      "0.9138\n",
      "0.9208\n",
      "0.9185\n",
      "0.9183\n",
      "0.9178\n",
      "0.9178\n",
      "0.9183\n",
      "0.9219\n",
      "0.9192\n",
      "0.9218\n",
      "0.9223\n",
      "0.9221\n",
      "0.9218\n",
      "0.9154\n",
      "0.9201\n",
      "0.9199\n",
      "0.9226\n",
      "0.9218\n",
      "0.9215\n",
      "0.9167\n",
      "0.9225\n",
      "0.9214\n",
      "0.9195\n",
      "0.9219\n",
      "0.924\n",
      "0.9207\n",
      "0.9221\n",
      "0.9218\n",
      "0.9192\n",
      "0.9219\n",
      "0.9233\n",
      "0.9229\n",
      "0.9233\n",
      "0.9195\n",
      "0.9207\n",
      "0.9181\n",
      "0.9234\n",
      "0.9225\n",
      "0.9191\n",
      "0.9247\n"
     ]
    }
   ],
   "source": [
    "for i in range(5000):\n",
    "    if i%100==0:\n",
    "        correct_predictions = tf.equal(tf.argmax(logits, 1), tf.argmax(yS, 1))\n",
    "        accuracys = tf.reduce_mean(tf.cast(correct_predictions, tf.float32))\n",
    "        print(sess.run(accuracys, {xS:testing_images, yS:testing_labels}))\n",
    "        \n",
    "    batch_xsS, batch_ysS = mnist.train.next_batch(100)\n",
    "    sess.run(train_step_single, feed_dict={xS: batch_xsS, yS:batch_ysS})"
   ]
  },
  {
   "cell_type": "code",
   "execution_count": 19,
   "metadata": {
    "collapsed": false
   },
   "outputs": [
    {
     "data": {
      "text/plain": [
       "<tf.Tensor 'Equal_50:0' shape=(?,) dtype=bool>"
      ]
     },
     "execution_count": 19,
     "metadata": {},
     "output_type": "execute_result"
    }
   ],
   "source": [
    "correct_prediction = tf.equal(tf.argmax(logits, 1), tf.argmax(yS, 1))\n",
    "correct_prediction"
   ]
  },
  {
   "cell_type": "code",
   "execution_count": 20,
   "metadata": {
    "collapsed": false
   },
   "outputs": [
    {
     "data": {
      "text/plain": [
       "0.92309999"
      ]
     },
     "execution_count": 20,
     "metadata": {},
     "output_type": "execute_result"
    }
   ],
   "source": [
    "accuracys = tf.reduce_mean(tf.cast(correct_predictions, tf.float32))\n",
    "sess.run(accuracys, {xS: testing_images, yS: testing_labels})"
   ]
  },
  {
   "cell_type": "markdown",
   "metadata": {},
   "source": [
    "# Creating a 3 Layer Model"
   ]
  },
  {
   "cell_type": "code",
   "execution_count": 22,
   "metadata": {
    "collapsed": true
   },
   "outputs": [],
   "source": [
    "sess = tf.InteractiveSession()"
   ]
  },
  {
   "cell_type": "code",
   "execution_count": 32,
   "metadata": {
    "collapsed": false
   },
   "outputs": [],
   "source": [
    "with tf.device('/cpu:0'):\n",
    "    \n",
    "    \n",
    "\n",
    "    #First Layer\n",
    "    y_ = tf.placeholder(tf.float32, [None, 10])\n",
    "    x = tf.placeholder(tf.float32, [None, 784])\n",
    "    W1 = tf.Variable(tf.zeros([784, 10]), tf.float32)\n",
    "    b1 = tf.Variable(tf.zeros([10]), tf.float32)\n",
    "    y1 = tf.nn.softmax(tf.add(tf.matmul(x, W1), b1))\n",
    "    \n",
    "    #Dropout\n",
    "    keep_prob_zero = tf.placeholder(tf.float32)\n",
    "    drop_zero = tf.nn.dropout(y1, keep_prob_zero)\n",
    "    \n",
    "    #second layer\n",
    "    W2 = tf.Variable(tf.zeros([10, 10]))\n",
    "    b2 = tf.Variable(tf.zeros([10]))\n",
    "    y2 = tf.nn.softmax(tf.add(tf.matmul(drop_zero, W2), b2))\n",
    "    \n",
    "    #Dropout\n",
    "    keep_prob_one = tf.placeholder(tf.float32)\n",
    "    drop_one = tf.nn.dropout(y2, keep_prob_one)\n",
    "    \n",
    "    #third layer\n",
    "    W3 = tf.Variable(tf.zeros([10, 10]))\n",
    "    b3 = tf.Variable(tf.zeros([10]))\n",
    "    y3 = tf.nn.softmax(tf.add(tf.matmul(drop_one, W3), b3))\n",
    "    \n",
    "    cross_entropy = tf.reduce_mean(-tf.reduce_sum(y_*tf.log(y3), reduction_indices=[1]) )"
   ]
  },
  {
   "cell_type": "code",
   "execution_count": 33,
   "metadata": {
    "collapsed": false
   },
   "outputs": [],
   "source": [
    "train_step = tf.train.GradientDescentOptimizer(0.5).minimize(cross_entropy)"
   ]
  },
  {
   "cell_type": "code",
   "execution_count": 34,
   "metadata": {
    "collapsed": true
   },
   "outputs": [],
   "source": [
    "tf.global_variables_initializer().run()"
   ]
  },
  {
   "cell_type": "code",
   "execution_count": 35,
   "metadata": {
    "collapsed": false
   },
   "outputs": [
    {
     "name": "stdout",
     "output_type": "stream",
     "text": [
      "0.098\n",
      "0.1135\n",
      "0.1135\n",
      "0.1127\n",
      "0.1128\n",
      "0.1122\n",
      "0.1137\n",
      "0.1016\n",
      "0.1135\n",
      "0.1135\n",
      "0.1084\n",
      "0.101\n",
      "0.1136\n",
      "0.1135\n",
      "0.1027\n",
      "0.1026\n",
      "0.1027\n",
      "0.1135\n",
      "0.1044\n",
      "0.1102\n",
      "0.1135\n",
      "0.1123\n",
      "0.1135\n",
      "0.1135\n",
      "0.1078\n",
      "0.1135\n",
      "0.1028\n",
      "0.1014\n",
      "0.1135\n",
      "0.1135\n",
      "0.1055\n",
      "0.1135\n",
      "0.1135\n",
      "0.1042\n",
      "0.1129\n",
      "0.1024\n",
      "0.1086\n",
      "0.106\n",
      "0.0997\n",
      "0.1051\n",
      "0.1108\n",
      "0.1135\n",
      "0.102\n",
      "0.1135\n",
      "0.1127\n",
      "0.1135\n",
      "0.1136\n",
      "0.1126\n",
      "0.1135\n",
      "0.107\n",
      "0.1135\n",
      "0.1073\n",
      "0.1124\n",
      "0.1137\n",
      "0.1135\n",
      "0.1135\n",
      "0.1133\n",
      "0.113\n",
      "0.1034\n",
      "0.1135\n",
      "0.1125\n",
      "0.1025\n",
      "0.1112\n",
      "0.1135\n",
      "0.1135\n",
      "0.1078\n",
      "0.1092\n",
      "0.1135\n",
      "0.1028\n",
      "0.1135\n",
      "0.1135\n",
      "0.1133\n",
      "0.1135\n",
      "0.0993\n",
      "0.1016\n",
      "0.1135\n",
      "0.1032\n",
      "0.0952\n",
      "0.1135\n",
      "0.1023\n",
      "0.1044\n",
      "0.1051\n",
      "0.1135\n",
      "0.1131\n",
      "0.1135\n",
      "0.1135\n",
      "0.1132\n",
      "0.0988\n",
      "0.0993\n",
      "0.1135\n",
      "0.1137\n",
      "0.1135\n",
      "0.1135\n",
      "0.114\n",
      "0.1099\n",
      "0.1013\n",
      "0.1074\n",
      "0.1134\n",
      "0.1136\n",
      "0.1135\n",
      "0.1137\n",
      "0.1086\n",
      "0.1013\n",
      "0.1135\n",
      "0.0958\n",
      "0.1135\n",
      "0.1121\n",
      "0.1088\n",
      "0.108\n",
      "0.1135\n",
      "0.1135\n",
      "0.1132\n",
      "0.1127\n",
      "0.1122\n",
      "0.1047\n",
      "0.1143\n",
      "0.1012\n",
      "0.1045\n",
      "0.1132\n",
      "0.1135\n",
      "0.1058\n",
      "0.1135\n",
      "0.1135\n",
      "0.1023\n",
      "0.1134\n",
      "0.1073\n",
      "0.1095\n",
      "0.1135\n",
      "0.1006\n",
      "0.1018\n",
      "0.1119\n",
      "0.11\n",
      "0.1094\n",
      "0.1062\n",
      "0.1135\n",
      "0.1138\n",
      "0.1032\n",
      "0.1136\n",
      "0.1038\n",
      "0.1101\n",
      "0.1104\n",
      "0.1107\n",
      "0.1136\n",
      "0.1058\n",
      "0.1135\n",
      "0.1186\n",
      "0.1239\n",
      "0.147\n",
      "0.1272\n",
      "0.1321\n",
      "0.1318\n",
      "0.1566\n",
      "0.1415\n",
      "0.155\n",
      "0.1578\n",
      "0.1408\n",
      "0.1488\n",
      "0.1481\n",
      "0.1537\n",
      "0.1583\n",
      "0.1767\n",
      "0.1757\n",
      "0.1665\n",
      "0.1618\n",
      "0.1628\n",
      "0.1687\n",
      "0.1631\n",
      "0.167\n",
      "0.1721\n",
      "0.1746\n",
      "0.179\n",
      "0.1705\n",
      "0.191\n",
      "0.1902\n",
      "0.184\n",
      "0.1908\n",
      "0.178\n",
      "0.1781\n",
      "0.1826\n",
      "0.1834\n",
      "0.1814\n",
      "0.1762\n",
      "0.1875\n",
      "0.1824\n",
      "0.1853\n",
      "0.1829\n",
      "0.1824\n",
      "0.1889\n",
      "0.1852\n",
      "0.1861\n",
      "0.1866\n",
      "0.18\n",
      "0.1858\n",
      "0.1871\n",
      "0.1843\n",
      "0.1887\n",
      "0.1847\n",
      "0.1965\n",
      "0.1962\n",
      "0.2008\n",
      "0.1979\n",
      "0.2085\n",
      "0.2044\n",
      "0.1941\n",
      "0.1967\n",
      "0.1959\n",
      "0.2031\n",
      "0.2026\n",
      "0.2013\n",
      "0.2046\n",
      "0.2018\n",
      "0.2055\n",
      "0.2035\n",
      "0.205\n",
      "0.2007\n",
      "0.1997\n",
      "0.209\n",
      "0.2009\n",
      "0.1935\n",
      "0.1992\n",
      "0.2076\n",
      "0.21\n",
      "0.2072\n",
      "0.207\n",
      "0.2035\n",
      "0.2057\n",
      "0.2181\n",
      "0.2036\n",
      "0.2096\n",
      "0.2175\n",
      "0.2258\n",
      "0.2236\n",
      "0.2342\n",
      "0.2099\n",
      "0.2356\n",
      "0.2201\n",
      "0.2229\n",
      "0.2273\n",
      "0.2237\n",
      "0.2314\n",
      "0.2402\n",
      "0.2406\n",
      "0.2381\n",
      "0.2431\n",
      "0.2353\n",
      "0.2419\n",
      "0.2354\n",
      "0.2409\n",
      "0.2485\n",
      "0.2455\n",
      "0.2397\n",
      "0.2396\n",
      "0.2475\n",
      "0.2432\n",
      "0.2396\n",
      "0.2456\n",
      "0.2395\n",
      "0.2387\n",
      "0.2454\n",
      "0.2414\n",
      "0.2448\n",
      "0.2403\n",
      "0.2368\n",
      "0.2438\n",
      "0.2377\n",
      "0.2386\n",
      "0.2465\n",
      "0.2451\n",
      "0.2399\n",
      "0.2558\n",
      "0.2441\n",
      "0.2524\n",
      "0.246\n",
      "0.2563\n",
      "0.2584\n",
      "0.2643\n",
      "0.2594\n",
      "0.259\n",
      "0.2643\n",
      "0.2599\n",
      "0.26\n",
      "0.265\n",
      "0.2624\n",
      "0.2641\n",
      "0.2664\n",
      "0.2559\n",
      "0.2517\n",
      "0.264\n",
      "0.2632\n",
      "0.2601\n",
      "0.2656\n",
      "0.2641\n",
      "0.2599\n",
      "0.2676\n",
      "0.262\n",
      "0.2643\n",
      "0.2606\n",
      "0.2615\n",
      "0.2622\n",
      "0.2581\n",
      "0.2657\n",
      "0.2699\n",
      "0.2627\n",
      "0.2588\n",
      "0.2708\n",
      "0.2633\n",
      "0.2671\n",
      "0.2572\n",
      "0.2692\n",
      "0.2711\n",
      "0.2651\n",
      "0.2627\n",
      "0.2686\n",
      "0.2627\n",
      "0.2608\n",
      "0.2658\n",
      "0.2608\n",
      "0.276\n",
      "0.2584\n",
      "0.2657\n",
      "0.2567\n",
      "0.2631\n",
      "0.2671\n",
      "0.2633\n",
      "0.2739\n",
      "0.2661\n",
      "0.2563\n",
      "0.2546\n",
      "0.2604\n",
      "0.2615\n",
      "0.2707\n",
      "0.2613\n",
      "0.2717\n",
      "0.2716\n",
      "0.2691\n",
      "0.2495\n",
      "0.2716\n",
      "0.2656\n",
      "0.2636\n",
      "0.2687\n",
      "0.2735\n",
      "0.2644\n",
      "0.2653\n",
      "0.2684\n",
      "0.2668\n",
      "0.2706\n",
      "0.268\n",
      "0.2683\n",
      "0.2602\n",
      "0.2652\n",
      "0.2678\n",
      "0.255\n",
      "0.2712\n",
      "0.2601\n",
      "0.2694\n",
      "0.2643\n",
      "0.2585\n",
      "0.2627\n",
      "0.2617\n",
      "0.2607\n",
      "0.2643\n",
      "0.2674\n",
      "0.2652\n",
      "0.2683\n",
      "0.2655\n",
      "0.2711\n",
      "0.2714\n",
      "0.2719\n",
      "0.2763\n",
      "0.2658\n",
      "0.2702\n",
      "0.2713\n",
      "0.2794\n",
      "0.2716\n",
      "0.2754\n",
      "0.2724\n",
      "0.2716\n",
      "0.2414\n",
      "0.28\n",
      "0.2767\n",
      "0.2746\n",
      "0.2674\n",
      "0.279\n",
      "0.2723\n",
      "0.2886\n",
      "0.2775\n",
      "0.2848\n",
      "0.2857\n",
      "0.2603\n",
      "0.2846\n",
      "0.2826\n",
      "0.288\n",
      "0.2863\n",
      "0.2711\n",
      "0.2942\n",
      "0.2883\n",
      "0.2872\n",
      "0.294\n",
      "0.2943\n",
      "0.2946\n",
      "0.2842\n",
      "0.2996\n",
      "0.2967\n",
      "0.2992\n",
      "0.2989\n",
      "0.2823\n",
      "0.2752\n",
      "0.2949\n",
      "0.2935\n",
      "0.2983\n",
      "0.2969\n",
      "0.2977\n",
      "0.2964\n",
      "0.3008\n",
      "0.2973\n",
      "0.3024\n",
      "0.298\n",
      "0.2935\n",
      "0.2952\n",
      "0.3012\n",
      "0.303\n",
      "0.3017\n",
      "0.2908\n",
      "0.2968\n",
      "0.3023\n",
      "0.302\n",
      "0.3043\n",
      "0.3075\n",
      "0.3055\n",
      "0.2913\n",
      "0.3066\n",
      "0.3096\n",
      "0.3047\n",
      "0.3009\n",
      "0.3047\n",
      "0.3065\n",
      "0.3064\n",
      "0.3063\n",
      "0.3048\n",
      "0.3079\n",
      "0.3078\n",
      "0.3105\n",
      "0.297\n",
      "0.3108\n",
      "0.3119\n",
      "0.3047\n",
      "0.3191\n",
      "0.3078\n",
      "0.2897\n",
      "0.3083\n",
      "0.3077\n",
      "0.3091\n",
      "0.3066\n",
      "0.3042\n",
      "0.3122\n",
      "0.303\n",
      "0.3191\n",
      "0.3086\n",
      "0.3106\n",
      "0.3136\n",
      "0.3107\n",
      "0.3101\n",
      "0.3172\n",
      "0.306\n",
      "0.3071\n",
      "0.3168\n",
      "0.3096\n",
      "0.3149\n",
      "0.3113\n",
      "0.3177\n",
      "0.3229\n",
      "0.315\n",
      "0.3098\n",
      "0.3149\n",
      "0.3136\n",
      "0.3138\n",
      "0.3117\n",
      "0.3131\n",
      "0.3144\n",
      "0.3025\n",
      "0.3101\n",
      "0.2958\n",
      "0.3094\n",
      "0.3058\n",
      "0.3092\n",
      "0.3139\n",
      "0.3157\n",
      "0.3184\n",
      "0.3097\n",
      "0.3132\n",
      "0.3165\n",
      "0.31\n",
      "0.3069\n",
      "0.3197\n",
      "0.3071\n",
      "0.3099\n",
      "0.3142\n",
      "0.3145\n",
      "0.3152\n",
      "0.3054\n"
     ]
    }
   ],
   "source": [
    "for i in range(50000):\n",
    "    if i%100==0:\n",
    "        correct_predictions = tf.equal(tf.argmax(y3, 1), tf.argmax(y_, 1))\n",
    "        accuracys = tf.reduce_mean(tf.cast(correct_predictions, tf.float32))\n",
    "        print(sess.run(accuracys, {x:testing_images, y_:testing_labels, keep_prob_zero:0.5, keep_prob_one:0.5}))\n",
    "    batch_xs, batch_ys = mnist.train.next_batch(100)\n",
    "    sess.run(train_step, feed_dict={x:batch_xs, y_:batch_ys,keep_prob_zero:0.5, keep_prob_one:0.5})"
   ]
  },
  {
   "cell_type": "code",
   "execution_count": 27,
   "metadata": {
    "collapsed": false
   },
   "outputs": [
    {
     "data": {
      "text/plain": [
       "0.1135"
      ]
     },
     "execution_count": 27,
     "metadata": {},
     "output_type": "execute_result"
    }
   ],
   "source": [
    "correct_prediction = tf.equal(tf.argmax(y3, 1), tf.argmax(y_, 1))\n",
    "accuracy = tf.reduce_mean(tf.cast(correct_prediction, tf.float32))\n",
    "sess.run(accuracy, feed_dict={x:testing_images, y_:testing_labels})"
   ]
  },
  {
   "cell_type": "code",
   "execution_count": null,
   "metadata": {
    "collapsed": true
   },
   "outputs": [],
   "source": []
  }
 ],
 "metadata": {
  "kernelspec": {
   "display_name": "Python 2",
   "language": "python",
   "name": "python2"
  },
  "language_info": {
   "codemirror_mode": {
    "name": "ipython",
    "version": 2
   },
   "file_extension": ".py",
   "mimetype": "text/x-python",
   "name": "python",
   "nbconvert_exporter": "python",
   "pygments_lexer": "ipython2",
   "version": "2.7.13"
  }
 },
 "nbformat": 4,
 "nbformat_minor": 0
}
