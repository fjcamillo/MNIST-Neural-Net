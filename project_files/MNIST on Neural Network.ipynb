{
 "cells": [
  {
   "cell_type": "markdown",
   "metadata": {},
   "source": [
    "# Feed Forward Neural Network on MNIST Dataset"
   ]
  },
  {
   "cell_type": "code",
   "execution_count": 1,
   "metadata": {
    "collapsed": true
   },
   "outputs": [],
   "source": [
    "import tensorflow as tf\n",
    "import numpy as np"
   ]
  },
  {
   "cell_type": "code",
   "execution_count": 2,
   "metadata": {
    "collapsed": false
   },
   "outputs": [],
   "source": [
    "from tensorflow.examples.tutorials.mnist import input_data"
   ]
  },
  {
   "cell_type": "code",
   "execution_count": 3,
   "metadata": {
    "collapsed": false
   },
   "outputs": [
    {
     "name": "stdout",
     "output_type": "stream",
     "text": [
      "Extracting ../MNIST_data/train-images-idx3-ubyte.gz\n",
      "Extracting ../MNIST_data/train-labels-idx1-ubyte.gz\n",
      "Extracting ../MNIST_data/t10k-images-idx3-ubyte.gz\n",
      "Extracting ../MNIST_data/t10k-labels-idx1-ubyte.gz\n"
     ]
    }
   ],
   "source": [
    "mnist = input_data.read_data_sets('../MNIST_data/', one_hot=True)"
   ]
  },
  {
   "cell_type": "code",
   "execution_count": 4,
   "metadata": {
    "collapsed": false
   },
   "outputs": [],
   "source": [
    "training_images = mnist.train.images\n",
    "training_labels = mnist.train.labels"
   ]
  },
  {
   "cell_type": "code",
   "execution_count": 5,
   "metadata": {
    "collapsed": true
   },
   "outputs": [],
   "source": [
    "testing_images = mnist.test.images\n",
    "testing_labels = mnist.test.labels"
   ]
  },
  {
   "cell_type": "code",
   "execution_count": null,
   "metadata": {
    "collapsed": false
   },
   "outputs": [],
   "source": [
    "training_images.shape"
   ]
  },
  {
   "cell_type": "code",
   "execution_count": null,
   "metadata": {
    "collapsed": false
   },
   "outputs": [],
   "source": [
    "training_labels.shape"
   ]
  },
  {
   "cell_type": "code",
   "execution_count": null,
   "metadata": {
    "collapsed": false
   },
   "outputs": [],
   "source": [
    "testing_images.shape"
   ]
  },
  {
   "cell_type": "code",
   "execution_count": null,
   "metadata": {
    "collapsed": false
   },
   "outputs": [],
   "source": [
    "testing_labels.shape"
   ]
  },
  {
   "cell_type": "code",
   "execution_count": null,
   "metadata": {
    "collapsed": false
   },
   "outputs": [],
   "source": [
    "training_images[0].shape"
   ]
  },
  {
   "cell_type": "code",
   "execution_count": null,
   "metadata": {
    "collapsed": false
   },
   "outputs": [],
   "source": [
    "training_labels[0].shape"
   ]
  },
  {
   "cell_type": "code",
   "execution_count": null,
   "metadata": {
    "collapsed": false
   },
   "outputs": [],
   "source": [
    "testing_images[0].shape"
   ]
  },
  {
   "cell_type": "code",
   "execution_count": null,
   "metadata": {
    "collapsed": false
   },
   "outputs": [],
   "source": [
    "testing_labels[0].shape"
   ]
  },
  {
   "cell_type": "markdown",
   "metadata": {},
   "source": [
    "# Creating a 1 Layer Model"
   ]
  },
  {
   "cell_type": "code",
   "execution_count": null,
   "metadata": {
    "collapsed": true
   },
   "outputs": [],
   "source": [
    "sess = tf.InteractiveSession()"
   ]
  },
  {
   "cell_type": "code",
   "execution_count": 42,
   "metadata": {
    "collapsed": false
   },
   "outputs": [],
   "source": [
    "with tf.device('/cpu:0'):\n",
    "    xS = tf.placeholder(tf.float32, [None, 784])\n",
    "\n",
    "    #First Layer\n",
    "    W = tf.Variable(tf.zeros([784, 10]), tf.float32)\n",
    "    b = tf.Variable(tf.zeros([10]), tf.float32)\n",
    "    yS = tf.placeholder(tf.float32, [None, 10])\n",
    "    \n",
    "    logits = tf.nn.softmax(tf.add(tf.matmul(xS, W), b))\n",
    "        \n",
    "    \n",
    "    cross_entropyS = tf.reduce_mean(-tf.reduce_sum(yS*tf.log(logits), reduction_indices=[1]))\n",
    "    "
   ]
  },
  {
   "cell_type": "code",
   "execution_count": 43,
   "metadata": {
    "collapsed": true
   },
   "outputs": [],
   "source": [
    "train_step_single = tf.train.GradientDescentOptimizer(0.5).minimize(cross_entropyS)"
   ]
  },
  {
   "cell_type": "code",
   "execution_count": 44,
   "metadata": {
    "collapsed": true
   },
   "outputs": [],
   "source": [
    "tf.global_variables_initializer().run()"
   ]
  },
  {
   "cell_type": "code",
   "execution_count": 45,
   "metadata": {
    "collapsed": false
   },
   "outputs": [
    {
     "name": "stdout",
     "output_type": "stream",
     "text": [
      "0.098\n",
      "0.8969\n",
      "0.9042\n",
      "0.9121\n",
      "0.9157\n",
      "0.9148\n",
      "0.9139\n",
      "0.9159\n",
      "0.917\n",
      "0.918\n",
      "0.914\n",
      "0.9183\n",
      "0.9203\n",
      "0.9164\n",
      "0.9167\n",
      "0.9185\n",
      "0.9205\n",
      "0.9142\n",
      "0.9228\n",
      "0.9201\n",
      "0.9186\n",
      "0.9212\n",
      "0.9197\n",
      "0.9181\n",
      "0.9175\n",
      "0.9239\n",
      "0.9207\n",
      "0.92\n",
      "0.9216\n",
      "0.9212\n",
      "0.9208\n",
      "0.9226\n",
      "0.9201\n",
      "0.9214\n",
      "0.9237\n",
      "0.923\n",
      "0.9219\n",
      "0.9221\n",
      "0.9232\n",
      "0.9222\n",
      "0.9244\n",
      "0.9201\n",
      "0.9181\n",
      "0.9246\n",
      "0.9227\n",
      "0.9231\n",
      "0.9241\n",
      "0.9228\n",
      "0.922\n",
      "0.9231\n"
     ]
    }
   ],
   "source": [
    "for i in range(5000):\n",
    "    if i%100==0:\n",
    "        correct_predictions = tf.equal(tf.argmax(logits, 1), tf.argmax(yS, 1))\n",
    "        accuracys = tf.reduce_mean(tf.cast(correct_predictions, tf.float32))\n",
    "        print(sess.run(accuracys, {xS:testing_images, yS:testing_labels}))\n",
    "        \n",
    "    batch_xsS, batch_ysS = mnist.train.next_batch(100)\n",
    "    sess.run(train_step_single, feed_dict={xS: batch_xsS, yS:batch_ysS})"
   ]
  },
  {
   "cell_type": "code",
   "execution_count": 46,
   "metadata": {
    "collapsed": false
   },
   "outputs": [
    {
     "data": {
      "text/plain": [
       "<tf.Tensor 'Equal_59:0' shape=(?,) dtype=bool>"
      ]
     },
     "execution_count": 46,
     "metadata": {},
     "output_type": "execute_result"
    }
   ],
   "source": [
    "correct_prediction = tf.equal(tf.argmax(logits, 1), tf.argmax(y_, 1))\n",
    "correct_prediction"
   ]
  },
  {
   "cell_type": "code",
   "execution_count": 48,
   "metadata": {
    "collapsed": false
   },
   "outputs": [
    {
     "data": {
      "text/plain": [
       "0.92379999"
      ]
     },
     "execution_count": 48,
     "metadata": {},
     "output_type": "execute_result"
    }
   ],
   "source": [
    "accuracys = tf.reduce_mean(tf.cast(correct_predictions, tf.float32))\n",
    "sess.run(accuracys, {xS: testing_images, yS: testing_labels})"
   ]
  },
  {
   "cell_type": "markdown",
   "metadata": {},
   "source": [
    "# Creating a 3 Layer Model"
   ]
  },
  {
   "cell_type": "code",
   "execution_count": 6,
   "metadata": {
    "collapsed": true
   },
   "outputs": [],
   "source": [
    "sess = tf.InteractiveSession()"
   ]
  },
  {
   "cell_type": "code",
   "execution_count": 74,
   "metadata": {
    "collapsed": false
   },
   "outputs": [],
   "source": [
    "with tf.device('/cpu:0'):\n",
    "\n",
    "    #First Layer\n",
    "    y_ = tf.placeholder(tf.float32, [None, 10])\n",
    "    x = tf.placeholder(tf.float32, [None, 784])\n",
    "    W1 = tf.Variable(tf.zeros([784, 50]), tf.float32)\n",
    "    b1 = tf.Variable(tf.zeros([50]), tf.float32)\n",
    "    y1 = tf.nn.softmax(tf.add(tf.matmul(x, W1), b1))\n",
    "    #second layer\n",
    "    W2 = tf.Variable(tf.zeros([50, 20]))\n",
    "    b2 = tf.Variable(tf.zeros([20]))\n",
    "    y2 = tf.nn.softmax(tf.add(tf.matmul(y1, W2), b2))\n",
    "    #third layer\n",
    "    W3 = tf.Variable(tf.zeros([20, 10]))\n",
    "    b3 = tf.Variable(tf.zeros([10]))\n",
    "    y3 = tf.nn.softmax(tf.add(tf.matmul(y2, W3), b3))\n",
    "    \n",
    "    cross_entropy = tf.reduce_mean(-tf.reduce_sum(y_*tf.log(y3), reduction_indices=[1]) )"
   ]
  },
  {
   "cell_type": "code",
   "execution_count": 76,
   "metadata": {
    "collapsed": false
   },
   "outputs": [],
   "source": [
    "train_step = tf.train.MomentumOptimizer(0.5, 0.5).minimize(cross_entropy)"
   ]
  },
  {
   "cell_type": "code",
   "execution_count": 77,
   "metadata": {
    "collapsed": true
   },
   "outputs": [],
   "source": [
    "tf.global_variables_initializer().run()"
   ]
  },
  {
   "cell_type": "code",
   "execution_count": 78,
   "metadata": {
    "collapsed": false
   },
   "outputs": [
    {
     "name": "stdout",
     "output_type": "stream",
     "text": [
      "0.098\n",
      "0.1135\n",
      "0.1028\n",
      "0.1032\n",
      "0.1032\n",
      "0.101\n",
      "0.098\n",
      "0.1135\n",
      "0.098\n",
      "0.1135\n",
      "0.101\n",
      "0.101\n",
      "0.098\n",
      "0.1028\n",
      "0.101\n",
      "0.1135\n",
      "0.1135\n",
      "0.1135\n",
      "0.1135\n",
      "0.1135\n",
      "0.101\n",
      "0.1135\n",
      "0.1135\n",
      "0.1009\n",
      "0.1028\n",
      "0.1135\n",
      "0.1135\n",
      "0.1135\n",
      "0.1028\n",
      "0.1135\n",
      "0.1028\n",
      "0.1135\n",
      "0.1135\n",
      "0.1135\n",
      "0.1009\n",
      "0.0958\n",
      "0.1028\n",
      "0.0892\n",
      "0.101\n",
      "0.1135\n",
      "0.101\n",
      "0.1135\n",
      "0.1135\n",
      "0.1028\n",
      "0.1135\n",
      "0.0974\n",
      "0.1135\n",
      "0.1028\n",
      "0.1135\n",
      "0.1028\n"
     ]
    }
   ],
   "source": [
    "for i in range(5000):\n",
    "    if i%100==0:\n",
    "        correct_predictions = tf.equal(tf.argmax(y3, 1), tf.argmax(y_, 1))\n",
    "        accuracys = tf.reduce_mean(tf.cast(correct_predictions, tf.float32))\n",
    "        print(sess.run(accuracys, {x:testing_images, y_:testing_labels}))\n",
    "    batch_xs, batch_ys = mnist.train.next_batch(100)\n",
    "    sess.run(train_step, feed_dict={x:batch_xs, y_:batch_ys})"
   ]
  },
  {
   "cell_type": "code",
   "execution_count": 69,
   "metadata": {
    "collapsed": false
   },
   "outputs": [
    {
     "data": {
      "text/plain": [
       "0.1135"
      ]
     },
     "execution_count": 69,
     "metadata": {},
     "output_type": "execute_result"
    }
   ],
   "source": [
    "correct_prediction = tf.equal(tf.argmax(y3, 1), tf.argmax(y_, 1))\n",
    "accuracy = tf.reduce_mean(tf.cast(correct_prediction, tf.float32))\n",
    "sess.run(accuracy, feed_dict={x:testing_images, y_:testing_labels})"
   ]
  },
  {
   "cell_type": "code",
   "execution_count": null,
   "metadata": {
    "collapsed": true
   },
   "outputs": [],
   "source": []
  }
 ],
 "metadata": {
  "kernelspec": {
   "display_name": "Python 2",
   "language": "python",
   "name": "python2"
  },
  "language_info": {
   "codemirror_mode": {
    "name": "ipython",
    "version": 2
   },
   "file_extension": ".py",
   "mimetype": "text/x-python",
   "name": "python",
   "nbconvert_exporter": "python",
   "pygments_lexer": "ipython2",
   "version": "2.7.13"
  }
 },
 "nbformat": 4,
 "nbformat_minor": 0
}
